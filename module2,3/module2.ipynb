{
 "cells": [
  {
   "cell_type": "markdown",
   "metadata": {},
   "source": [
    "## Abstract Base Class\n",
    "Abstract class: [TextAttack metric](https://github.com/QData/TextAttack/blob/7d7e50086e3a35db51d347a566558493120a4787/textattack/metrics/metric.py#L7); [Transformers Stopping Criteria](https://github.com/huggingface/transformers/blob/b257c46a075419c09e5ce5c5aa39bc346ecdb9a5/src/transformers/generation/stopping_criteria.py#L4)\n",
    "\n",
    "Abstract class w.o. abc.ABC: [AllenNLP metric]([https://github.com/allenai/allennlp/blob/main/allennlp/training/metrics/metric.py)"
   ]
  },
  {
   "cell_type": "code",
   "execution_count": null,
   "metadata": {},
   "outputs": [],
   "source": []
  },
  {
   "cell_type": "markdown",
   "metadata": {},
   "source": [
    "## Design Principles\n",
    "* [ The use of Abstract Base Classes (ABCs) in Python and the concept of metaclasses](https://levelup.gitconnected.com/two-types-of-abstractions-in-python-instance-of-inherited-from-e436a63cfcfd) can reflect all the three principles\n",
    "\n",
    "\n",
    "\n",
    "<!-- 1. Single Responsibility Principle: A class should have one, and only one, reason to change. In other words, it should have only one job. Example: minimax -->\n",
    "\n",
    "1. Open-Closed Principle: Entities should be open for extension but closed for modification. That means you should be able to add new functionality to an object without altering its existing code.\n",
    "    + Example: [Load multiple types and subtypes of resources](https://github.com/xinzhel/word_corruption/blob/main/resource.py)\n",
    "\n",
    "2. Liskov Substitution Principle\n",
    "    + Subtypes must be substitutable for their base types. If B is a subtype of A, then wherever A is expected, B can be used without any issue. \n",
    "    + More related to polymorphism\n",
    "    + Less related to inheritance, especially in dynamic typing languages like Python due to duck typing.\n"
   ]
  },
  {
   "cell_type": "code",
   "execution_count": null,
   "metadata": {},
   "outputs": [],
   "source": [
    "class Duck:\n",
    "    def quack(self):\n",
    "        print(\"Quack!\")\n",
    "\n",
    "class Person:\n",
    "    def quack(self):\n",
    "        print(\"I'm mimicking a duck.\")\n",
    "\n",
    "def make_it_quack(duck):\n",
    "    # This function expects a duck, but you can also pass a person.\n",
    "    duck.quack()\n",
    "\n",
    "duck = Duck()\n",
    "person = Person()\n",
    "\n",
    "make_it_quack(duck)  # Quack!\n",
    "make_it_quack(person)  # I'm mimicking a duck.\n"
   ]
  },
  {
   "cell_type": "markdown",
   "metadata": {},
   "source": [
    "<!-- 4. Interface Segregation Principle\n",
    "    + Clients should not be forced to depend on interfaces they do not use. -->\n",
    "\n",
    "3. Dependency Inversion Principle \n",
    "    + High-level modules should not depend on low-level modules. Both should depend on abstractions.\n",
    "    + Example: [Lamp and Button](https://medium.com/gitconnected/duck-typing-and-dependency-inversion-in-python-f19ffac48099)\n",
    "\n",
    "\n",
    "\n"
   ]
  },
  {
   "cell_type": "markdown",
   "metadata": {},
   "source": []
  },
  {
   "cell_type": "markdown",
   "metadata": {},
   "source": [
    "## Design Patterns\n",
    "1. Singleton\n",
    "    + [A simple Python Module is a Singleton Instance](https://medium.com/@sergioli/a-simple-python-module-to-avoid-reloading-the-same-resource-twice-ad4644cc25ce)\n",
    "    + We do not even need define class, since [everything in Python is an object](https://levelup.gitconnected.com/two-types-of-abstractions-in-python-instance-of-inherited-from-e436a63cfcfd)\n",
    "\n",
    "2. Facade\n",
    "    + In Huggingface Transformers, the pipeline function can be viewed as somewhat of a facade. It provides a high-level, easy-to-use API for performing tasks like text classification, named entity recognition, question answering, etc. with just a few lines of code. Underneath, it abstracts away the complexity of model loading, tokenization, and inference.\n",
    "    ```\n",
    "    from transformers import pipeline\n",
    "    nlp = pipeline(\"sentiment-analysis\")\n",
    "    print(nlp(\"This is a great product!\"))\n",
    "\n",
    "    ```\n",
    "\n",
    "\n",
    "3. Factory\n",
    "    + [Create various models in Hugggingface Transformers](https://github.com/huggingface/transformers/blob/2ab75add4b30c2fc44a8bf575156d448d9ed87a7/src/transformers/models/auto/auto_factory.py#L395)\n",
    "    ```\n",
    "    from transformers import BertConfig, AutoModel\n",
    "    config = GPT2Config(\n",
    "        hidden_size=512,\n",
    "        num_attention_heads=8,\n",
    "        num_hidden_layers=6,\n",
    "    )\n",
    "\n",
    "    model = AutoModel.from_config(config)\n",
    "    ```\n",
    "\n",
    "4. Observer\n",
    "    + the subject (or \"observable\") is the entity that holds the state and notifies observers about any changes, while observers are the entities that react to these changes.\n",
    "    + [Adding tokens to vocabulary when loading data](https://github.com/allenai/allennlp/blob/main/allennlp/data/vocabulary.py)\n",
    "    + Training Machine Learning Models: \n",
    "        + [Trainer](https://github.com/allenai/allennlp/blob/main/allennlp/training/gradient_descent_trainer.py) can be seen as the subject or observable. It maintains the training loop, and its state changes as the training progresses through epochs, batches, etc. \n",
    "        + TrainerCallback can be seen as the observer (logging metrics, saving the model, changing learning rate, etc. ) "
   ]
  },
  {
   "cell_type": "code",
   "execution_count": null,
   "metadata": {},
   "outputs": [],
   "source": [
    "class Animal:\n",
    "    _registry = []\n",
    "\n",
    "    def __init__(self, name):\n",
    "        self._registry.append(self)\n",
    "        self.name = name\n",
    "\n",
    "class Dog(Animal):\n",
    "    pass\n",
    "\n",
    "class Cat(Animal):\n",
    "    pass\n",
    "\n",
    "fido = Dog(\"Fido\")\n",
    "whiskers = Cat(\"Whiskers\")\n",
    "\n",
    "print([animal.name for animal in Animal._registry])"
   ]
  }
 ],
 "metadata": {
  "kernelspec": {
   "display_name": "sit720",
   "language": "python",
   "name": "python3"
  },
  "language_info": {
   "codemirror_mode": {
    "name": "ipython",
    "version": 3
   },
   "file_extension": ".py",
   "mimetype": "text/x-python",
   "name": "python",
   "nbconvert_exporter": "python",
   "pygments_lexer": "ipython3",
   "version": "3.10.9"
  },
  "orig_nbformat": 4
 },
 "nbformat": 4,
 "nbformat_minor": 2
}
