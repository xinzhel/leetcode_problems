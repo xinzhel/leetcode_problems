{
 "cells": [
  {
   "cell_type": "markdown",
   "metadata": {},
   "source": [
    "## Design Principles\n",
    "* [ The use of Abstract Base Classes (ABCs) in Python and the concept of metaclasses](https://levelup.gitconnected.com/two-types-of-abstractions-in-python-instance-of-inherited-from-e436a63cfcfd) relate to the principle.\n",
    "\n",
    "\n",
    "\n",
    "1. Single Responsibility Principle: A class should have one, and only one, reason to change. In other words, it should have only one job. Example: minimax\n",
    "\n",
    "2. Open-Closed Principle: Entities should be open for extension but closed for modification. That means you should be able to add new functionality to an object without altering its existing code.\n",
    "    + Example: [Load multiple types and subtypes of resources](https://github.com/xinzhel/word_corruption/blob/main/resource.py)\n",
    "\n",
    "3. Liskov Substitution Principle\n",
    "    + Subtypes must be substitutable for their base types. If B is a subtype of A, then wherever A is expected, B can be used without any issue. \n",
    "    + [ The use of Abstract Base Classes (ABCs) in Python and the concept of metaclasses](https://levelup.gitconnected.com/two-types-of-abstractions-in-python-instance-of-inherited-from-e436a63cfcfd) relate to the principle.\n",
    "    \n",
    "    \n",
    "4. Interface Segregation Principle\n",
    "    + Clients should not be forced to depend on interfaces they do not use.\n",
    "\n",
    "5. Dependency Inversion Principle \n",
    "    + High-level modules should not depend on low-level modules. Both should depend on abstractions.\n",
    "    + Example: [Lamp and Button](https://medium.com/gitconnected/duck-typing-and-dependency-inversion-in-python-f19ffac48099)\n",
    "\n",
    "\n",
    "\n"
   ]
  },
  {
   "cell_type": "code",
   "execution_count": null,
   "metadata": {},
   "outputs": [],
   "source": []
  },
  {
   "cell_type": "markdown",
   "metadata": {},
   "source": []
  },
  {
   "cell_type": "markdown",
   "metadata": {},
   "source": [
    "## Design Patterns\n",
    "1. Singleton\n",
    "    + [A simple Python Module is a Singleton Instance](https://medium.com/@sergioli/a-simple-python-module-to-avoid-reloading-the-same-resource-twice-ad4644cc25ce)\n",
    "\n",
    "2. Facade\n",
    "\n",
    "\n",
    "3. Factory\n",
    "    + [Create various models in Hugggingface Transformers](https://github.com/huggingface/transformers/blob/2ab75add4b30c2fc44a8bf575156d448d9ed87a7/src/transformers/models/auto/auto_factory.py#L395)\n",
    "\n",
    "4. Observer\n",
    "    + [Adding tokens to vocabulary when loading data](https://github.com/allenai/allennlp/blob/main/allennlp/data/vocabulary.py)"
   ]
  }
 ],
 "metadata": {
  "language_info": {
   "name": "python"
  },
  "orig_nbformat": 4
 },
 "nbformat": 4,
 "nbformat_minor": 2
}
