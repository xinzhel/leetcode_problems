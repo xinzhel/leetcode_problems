{
 "cells": [
  {
   "cell_type": "code",
   "execution_count": 7,
   "metadata": {},
   "outputs": [
    {
     "name": "stdout",
     "output_type": "stream",
     "text": [
      "[[2, 3], [5, 4], [6, 7], [6, 4]]\n",
      "curr_w=6, max_h=7, envelopes[i]=[6, 7]\n",
      "curr_w=5, max_h=4, envelopes[i]=[5, 4]\n",
      "3\n"
     ]
    }
   ],
   "source": [
    "from typing import List\n",
    "class Solution:\n",
    "    def maxEnvelopes(self, envelopes: List[List[int]]) -> int:\n",
    "        if not envelopes:\n",
    "            return 0\n",
    "    \n",
    "        n = len(envelopes)\n",
    "        envelopes.sort(key=lambda x: (x[0], -x[1]))\n",
    "\n",
    "        f = [1] * n\n",
    "        for i in range(n):\n",
    "            for j in range(i):\n",
    "                if envelopes[j][1] < envelopes[i][1]:\n",
    "                    f[i] = max(f[i], f[j] + 1)\n",
    "        \n",
    "        return max(f)\n",
    "    \n",
    "class MySolution:\n",
    "    def maxEnvelopes(self, envelopes: List[List[int]]) -> int:\n",
    "        if not envelopes:\n",
    "            return 0\n",
    "        \n",
    "        n = len(envelopes)\n",
    "        envelopes.sort(key=lambda x: (x[0], -x[1]))\n",
    "        print(envelopes)\n",
    "\n",
    "        max_h = 1\n",
    "        curr_w = envelopes[-1][0]\n",
    "        total_envelopes = 0\n",
    "        # assume that the final solution contains an envelope with weight=envelopes[n][0] is the last envelope\n",
    "        for i in range(n-1, -1, -1):\n",
    "            if envelopes[i][0] == curr_w and envelopes[i][1] > max_h:\n",
    "                max_h = envelopes[i][1]\n",
    "            elif envelopes[i][0] < curr_w:\n",
    "                print(f'curr_w={curr_w}, max_h={max_h}, envelopes[i]={envelopes[i+1]}')\n",
    "                total_envelopes += 1\n",
    "                curr_w = envelopes[i][0]\n",
    "                max_h = envelopes[i][1]\n",
    "        total_envelopes += 1\n",
    "        return total_envelopes\n",
    "    \n",
    "    \n",
    "if __name__ == '__main__':\n",
    "    envelopes = [[5,4],[6,4],[6,7],[2,3]]\n",
    "    print(MySolution().maxEnvelopes(envelopes)) # 3"
   ]
  },
  {
   "cell_type": "code",
   "execution_count": 21,
   "metadata": {},
   "outputs": [
    {
     "name": "stdout",
     "output_type": "stream",
     "text": [
      "[[2, 3], [5, 4], [6, 5], [6, 7]]\n",
      "(3, 5, 6)\n",
      "4\n"
     ]
    }
   ],
   "source": [
    "\n",
    "class MyDPSolution:\n",
    "    i = 0\n",
    "    def maxEnvelopes(self, envelopes: List[List[int]]) -> int:\n",
    "        self.i +=1\n",
    "\n",
    "        if not envelopes:\n",
    "            return 0, None, None\n",
    "        if len(envelopes) == 1:\n",
    "            return 1, envelopes[0][1], envelopes[0][0]\n",
    "        \n",
    "        max_num, max_width, max_height = self.maxEnvelopes(envelopes[:-1])\n",
    "        if max_width < envelopes[-1][1] and  max_height < envelopes[-1][0]:\n",
    "            return max_num + 1, envelopes[-1][1], envelopes[-1][0]\n",
    "        else:\n",
    "            return max_num, max_width, max_height\n",
    "        \n",
    "        \n",
    "if __name__ == '__main__':\n",
    "    envelopes = [[5,4],[6,5],[6,7],[2,3]]\n",
    "    envelopes.sort(key=lambda x: x[0])\n",
    "    print(envelopes)\n",
    "    s =  MyDPSolution()\n",
    "    print(s.maxEnvelopes(envelopes)) # 3\n",
    "    print(s.i)"
   ]
  },
  {
   "cell_type": "code",
   "execution_count": null,
   "metadata": {},
   "outputs": [],
   "source": []
  }
 ],
 "metadata": {
  "kernelspec": {
   "display_name": "langchain",
   "language": "python",
   "name": "python3"
  },
  "language_info": {
   "codemirror_mode": {
    "name": "ipython",
    "version": 3
   },
   "file_extension": ".py",
   "mimetype": "text/x-python",
   "name": "python",
   "nbconvert_exporter": "python",
   "pygments_lexer": "ipython3",
   "version": "3.11.4"
  }
 },
 "nbformat": 4,
 "nbformat_minor": 2
}
