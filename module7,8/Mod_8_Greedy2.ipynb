{
 "cells": [
  {
   "cell_type": "markdown",
   "id": "imposed-playlist",
   "metadata": {},
   "source": [
    "# Lab 8: Greedy Algorithms"
   ]
  },
  {
   "cell_type": "markdown",
   "id": "d97cce87",
   "metadata": {},
   "source": [
    "Lab associated with Module 8: Greedy Algorithms"
   ]
  },
  {
   "cell_type": "markdown",
   "id": "5c7f2e9d",
   "metadata": {},
   "source": [
    "***"
   ]
  },
  {
   "cell_type": "code",
   "execution_count": 7,
   "id": "5b495ad0",
   "metadata": {},
   "outputs": [
    {
     "name": "stderr",
     "output_type": "stream",
     "text": [
      "/var/folders/z_/xphnyhxs03sg7p8v5dgkr10w0000gn/T/ipykernel_17605/1945220536.py:2: DeprecationWarning: Importing display from IPython.core.display is deprecated since IPython 7.14, please import from IPython display\n",
      "  from IPython.core.display import display, HTML\n"
     ]
    },
    {
     "data": {
      "text/html": [
       "<style>.container { width:95% !important; }</style>"
      ],
      "text/plain": [
       "<IPython.core.display.HTML object>"
      ]
     },
     "metadata": {},
     "output_type": "display_data"
    }
   ],
   "source": [
    "# The following lines are used to increase the width of cells to utilize more space on the screen \n",
    "from IPython.core.display import display, HTML\n",
    "display(HTML(\"<style>.container { width:95% !important; }</style>\"))"
   ]
  },
  {
   "cell_type": "markdown",
   "id": "3a2b855c",
   "metadata": {},
   "source": [
    "***"
   ]
  },
  {
   "cell_type": "markdown",
   "id": "9d0921a0",
   "metadata": {},
   "source": [
    "### Section 0: Imports"
   ]
  },
  {
   "cell_type": "code",
   "execution_count": 8,
   "id": "477622d5",
   "metadata": {},
   "outputs": [],
   "source": [
    "import numpy as np"
   ]
  },
  {
   "cell_type": "code",
   "execution_count": 9,
   "id": "50fb5ed5",
   "metadata": {},
   "outputs": [],
   "source": [
    "import math"
   ]
  },
  {
   "cell_type": "code",
   "execution_count": 10,
   "id": "9910ee06",
   "metadata": {},
   "outputs": [],
   "source": [
    "from IPython.display import Image\n",
    "from graphviz import Digraph"
   ]
  },
  {
   "cell_type": "markdown",
   "id": "7f9321f8",
   "metadata": {},
   "source": [
    "***"
   ]
  },
  {
   "cell_type": "markdown",
   "id": "f9b31a04",
   "metadata": {},
   "source": [
    "### <font color='red'> Activity 1a: Write a greedy algorithm for Activity Selection problem in this week's lab. </font>"
   ]
  },
  {
   "cell_type": "code",
   "execution_count": 2,
   "id": "8d176b03",
   "metadata": {},
   "outputs": [],
   "source": [
    "#### TODO ####\n",
    "### Good Luck ###\n",
    "def greedyActivitySelection(activities):\n",
    "    \n",
    "    n = len(activities)\n",
    "    A = [activities[0]]\n",
    "    k = 1\n",
    "    for m in range(2, n):\n",
    "        \n",
    "        if activities[m][0] >= activities[k][1]:\n",
    "            A = A + [activities[m]]\n",
    "            k = m\n",
    "    return A\n",
    "\n",
    "\n",
    "\n",
    "activities = [  [1,4],[2,5],[3,6],[5,7],[3,8],[6,9],[8,10],[9,11],[5,12],[6,13],[8,14],[13,15] ]\n",
    "activities = sorted(activities, key=lambda x: x[1])\n",
    "\n",
    "\n",
    "activityList = greedyActivitySelection(activities)\n",
    "\n",
    "print(\"Solution:\")\n",
    "for act in activityList:\n",
    "    print(act)\n"
   ]
  },
  {
   "cell_type": "markdown",
   "id": "configured-swedish",
   "metadata": {},
   "source": [
    "### <font color='red'> Activity 1b: Devise a dynamic programming solution to Activity Selection problem, and see if you get the same results as that of greedy strategy. </font>"
   ]
  },
  {
   "cell_type": "code",
   "execution_count": 1,
   "id": "piano-programming",
   "metadata": {},
   "outputs": [],
   "source": [
    "#### TODO ####\n",
    "### Good Luck ###\n",
    "def dynamicProgrammingActivitySelection(activities):\n",
    "    \n",
    "    maxActivities = []\n",
    "    \n",
    "    for k in range(0, len(activities)):\n",
    "        Sij = [] # Combined list of activities from Sik, activity k, and Skj.\n",
    "        Sik = [] # List of activities that finish before activity k start \n",
    "        Skj = [] # List of activities that start after activity k finish\n",
    "        \n",
    "        for i in range(0, len(activities)):\n",
    "            if activities[k][0] > activities[i][1]: # finishes before k starts\n",
    "                Sik = Sik + [activities[i]]\n",
    "            elif activities[k][1] < activities[i][0]: # starts after k finishes\n",
    "                Skj = Skj + [activities[i]]\n",
    "        \n",
    "        # The function calls itself recursively for Sik and Skj\n",
    "        Sij = dynamicProgrammingActivitySelection(Sik) + [activities[k]] + dynamicProgrammingActivitySelection(Skj)\n",
    "        \n",
    "        if len(Sij) > len(maxActivities):\n",
    "            maxActivities = Sij\n",
    "    \n",
    "    return maxActivities\n",
    "\n",
    "\n",
    "def dynamicProgrammingActivitySelection(activities):\n",
    "    # Sort activities by their finish times in ascending order\n",
    "    sorted_activities = sorted(activities, key=lambda x: x[1])\n",
    "\n",
    "    n = len(sorted_activities)\n",
    "    # Initialize a table to store the maximum number of activities for each ending time\n",
    "    max_activities = [1] * n\n",
    "\n",
    "    # Build the max_activities table using dynamic programming\n",
    "    for i in range(1, n):\n",
    "        for j in range(i):\n",
    "            if sorted_activities[i][0] >= sorted_activities[j][1] and max_activities[i] < max_activities[j] + 1:\n",
    "                max_activities[i] = max_activities[j] + 1\n",
    "\n",
    "    max_activity_count = max(max_activities)\n",
    "\n",
    "    # Reconstruct the solution\n",
    "    selected_activities = []\n",
    "    idx = max_activities.index(max_activity_count)\n",
    "\n",
    "    while max_activity_count > 1:\n",
    "        for j in range(idx, -1, -1):\n",
    "            if max_activities[j] == max_activity_count - 1 and sorted_activities[j][1] <= sorted_activities[idx][0]:\n",
    "                selected_activities.insert(0, sorted_activities[j])\n",
    "                idx = j\n",
    "                max_activity_count -= 1\n",
    "                break\n",
    "\n",
    "    return selected_activities"
   ]
  },
  {
   "cell_type": "code",
   "execution_count": null,
   "id": "db5d80f4",
   "metadata": {},
   "outputs": [],
   "source": [
    "activities = [  [1,4],[2,5],[3,6],[5,7],[3,8],[6,9],[8,10],[9,11],[5,12],[6,13],[8,14],[13,15] ]\n",
    "\n",
    "activityList = dynamicProgrammingActivitySelection(activities)\n",
    "\n",
    "print(\"Solution:\")\n",
    "for act in activityList:\n",
    "    print(activities[act])"
   ]
  },
  {
   "cell_type": "code",
   "execution_count": null,
   "id": "b0da6982",
   "metadata": {},
   "outputs": [],
   "source": [
    "#### TODO ####\n",
    "### Good Luck ###\n",
    "\n",
    "def dynamicProgrammingActivityRecursive(activities: list) -> list: \n",
    "    if len(activities) == 0: # if no activities in list, return empty list \n",
    "        return [] \n",
    "    activitiesList = [] # creates empty activity list\n",
    "    i = 0 \n",
    "    j = len(activities) - 1 \n",
    "    for k in range(i+1, j): # loop through all activities in list between i and j\n",
    "        if (activities[k][0] < (activities[i][0] + activities[i][1])) or (activities[k][0] + activities[k][1] > activities[j][0]):\n",
    "            continue\n",
    "        k_start = i\n",
    "        k_end = j\n",
    "        for x in range(i+1, k): # loop through all activities to find to last activity that starts before k \n",
    "            if (activities[x][0] + activities[x][1]) < activities[k][0]: \n",
    "                k_start = x\n",
    "            elif (activities[x][0] + activities[x][1]) >= activities[k][0]: \n",
    "                break\n",
    "        for x in range(k+1, j): # loop through all activities after k starts to find first to begin after k ends \n",
    "            if activities[x][0] > (activities[k][0] + activities[k][1]): \n",
    "                k_end = x\n",
    "                break\n",
    "        start = dynamicProgrammingActivityRecursive(activities[i:k_start]) # decide on activities between i and k \n",
    "        finish = dynamicProgrammingActivityRecursive(activities[k_end:j]) # decide on activities between k and j \n",
    "        lst = [activities[i]] + start + [activities[k]] + finish + [activities[j]]\n",
    "        activitiesList.append(lst)\n",
    "    maximum = 0\n",
    "    for i in range(1,len(activitiesList)): \n",
    "        if len(activitiesList[i]) > len(activitiesList[maximum]): \n",
    "            maximum = i \n",
    "    return activitiesList[maximum]\n",
    "\n",
    "def dynamicProgrammingActivitySelection(activities: list) -> list: \n",
    "    activities.sort()\n",
    "    return dynamicProgrammingActivityRecursive(activities)\n",
    "\n",
    "\n",
    "activities = [  [1,4],[3,8],[2,5],[3,6],[5,7],[6,9],[8,10],[9,11],[5,12],[6,13],[8,14],[13,15] ]\n",
    "\n",
    "activityList = greedyActivitySelection(activities)\n",
    "\n",
    "print(\"Solution:\")\n",
    "for act in activityList:\n",
    "    print(act)"
   ]
  },
  {
   "cell_type": "markdown",
   "id": "6570890e",
   "metadata": {},
   "source": [
    "***"
   ]
  },
  {
   "cell_type": "markdown",
   "id": "6e92fc09",
   "metadata": {},
   "source": [
    "###  Prim's Algorithm"
   ]
  },
  {
   "cell_type": "markdown",
   "id": "ce467019",
   "metadata": {},
   "source": [
    "Graph's Preliminaries"
   ]
  },
  {
   "cell_type": "code",
   "execution_count": 25,
   "id": "4cdc7ece",
   "metadata": {},
   "outputs": [],
   "source": [
    "class Node:\n",
    "    \n",
    "    def __init__(self, v):\n",
    "\n",
    "        self.value = v\n",
    "        self.inNeighbors = []\n",
    "        self.outNeighbors = []\n",
    "        \n",
    "        self.status = \"unvisited\"\n",
    "        self.estD = np.inf\n",
    "\n",
    "        self.parent = None\n",
    "        \n",
    "    def hasOutNeighbor(self, v):\n",
    "        \n",
    "        if v in self.outNeighbors:\n",
    "            return True\n",
    "        \n",
    "        return False\n",
    "        \n",
    "    def hasInNeighbor(self, v):\n",
    "        \n",
    "        if v in self.inNeighbors:\n",
    "            return True\n",
    "        \n",
    "        return False\n",
    "    \n",
    "    def hasNeighbor(self, v):\n",
    "        \n",
    "        if v in self.inNeighbors or v in self.outNeighbors:\n",
    "            return True\n",
    "        \n",
    "        return False\n",
    "    \n",
    "    def getOutNeighbors(self):\n",
    "        \n",
    "        return self.outNeighbors\n",
    "    \n",
    "    def getInNeighbors(self):\n",
    "        \n",
    "        return self.inNeighbors\n",
    "    \n",
    "    def getOutNeighborsWithWeights(self):\n",
    "        \n",
    "        return self.outNeighbors\n",
    "    \n",
    "    def getInNeighborsWithWeights(self):\n",
    "        \n",
    "        return self.inNeighbors\n",
    "    \n",
    "    # ------------------------------------------------\n",
    "    # Let us modify following two functions to incorporate weights\n",
    "    # ------------------------------------------------\n",
    "    \n",
    "    def addOutNeighbor(self,v,wt):\n",
    "        \n",
    "        self.outNeighbors.append((v,wt))\n",
    "    \n",
    "    def addInNeighbor(self,v,wt):\n",
    "        \n",
    "        self.inNeighbors.append((v,wt))\n",
    "    def __lt__(self, other):\n",
    "        return self.value < other.value\n",
    "        \n",
    "        \n",
    "    def __str__(self):\n",
    "        \n",
    "        return str(self.value) \n",
    "\n",
    "\n",
    "class Graph:\n",
    "    \n",
    "    def __init__(self):\n",
    "        \n",
    "        self.vertices = []\n",
    "\n",
    "    def addVertex(self,n):\n",
    "        \n",
    "        self.vertices.append(n)\n",
    "        \n",
    "    # ------------------------------------------------\n",
    "    # Let us modify following two functions to incorporate weights\n",
    "    # ------------------------------------------------\n",
    "        \n",
    "    def addDiEdge(self, u, v, wt = 1):\n",
    "        \n",
    "        u.addOutNeighbor(v, wt = wt)\n",
    "        v.addInNeighbor(u, wt = wt)\n",
    "        \n",
    "    # add edges in both directions between u and v\n",
    "    def addBiEdge(self, u, v, wt = 1):\n",
    "        \n",
    "        self.addDiEdge(u, v, wt = wt)\n",
    "        self.addDiEdge(v, u, wt = wt)\n",
    "        \n",
    "            \n",
    "    # get a list of all the directed edges\n",
    "    # directed edges are a list of two vertices\n",
    "    def getDirEdges(self):\n",
    "        \n",
    "        ret = []\n",
    "        for v in self.vertices:\n",
    "            ret += [ [v, u] for u in v.outNeighbors ]\n",
    "        return ret\n",
    "    \n",
    "    # reverse the edge between u and v.  Multiple edges are not supported.\n",
    "    def reverseEdge(self,u,v):\n",
    "        \n",
    "        if u.hasOutNeighbor(v) and v.hasInNeighbor(u):\n",
    "            \n",
    "            if v.hasOutNeighbor(u) and u.hasInNeighbor(v): \n",
    "                return\n",
    "        \n",
    "            self.addDiEdge(v, u)\n",
    "            u.outNeighbors.remove(v)\n",
    "            v.inNeighbors.remove(u)        \n",
    "                \n",
    "    def __str__(self):\n",
    "        \n",
    "        ret = \"Graph with:\\n\"\n",
    "        ret += \"\\t Vertices:\\n\\t\"\n",
    "        for v in self.vertices:\n",
    "            ret += str(v) + \",\"\n",
    "        ret += \"\\n\"\n",
    "        ret += \"\\t Edges:\\n\\t\"\n",
    "        for a,b in self.getDirEdges():\n",
    "            ret += \"(\" + str(a) + \",\" + str(b[0]) + \",\" + str (b[1]) + \") \"\n",
    "        ret += \"\\n\"\n",
    "        return ret"
   ]
  },
  {
   "cell_type": "code",
   "execution_count": 26,
   "id": "a75ba3ec",
   "metadata": {},
   "outputs": [],
   "source": [
    "G = Graph()\n",
    "\n",
    "for i in ['A', 'B', 'C', 'D', 'E', 'F', 'G', 'H', 'I']:\n",
    "    G.addVertex( Node(i) )"
   ]
  },
  {
   "cell_type": "code",
   "execution_count": 27,
   "id": "c990d75e",
   "metadata": {},
   "outputs": [],
   "source": [
    "V = G.vertices\n",
    "\n",
    "#0, 1, 2, 3, 4, 5, 6, 7, 8\n",
    "#A, B, C, D, E, F, G, H, I\n",
    "\n",
    "G.addBiEdge( V[0], V[1], 4)\n",
    "\n",
    "G.addBiEdge( V[0], V[7] , 8)\n",
    "\n",
    "G.addBiEdge( V[1], V[7], 11)\n",
    "\n",
    "G.addBiEdge( V[1], V[2], 8)\n",
    "\n",
    "G.addBiEdge( V[2], V[3], 7)\n",
    "\n",
    "G.addBiEdge( V[3], V[4], 9)\n",
    "\n",
    "G.addBiEdge( V[3], V[5], 14 )\n",
    "\n",
    "G.addBiEdge( V[4], V[5], 10 )\n",
    "\n",
    "G.addBiEdge( V[2], V[5], 4 )\n",
    "\n",
    "G.addBiEdge( V[2], V[8], 2 )\n",
    "\n",
    "G.addBiEdge( V[5], V[6], 2 )\n",
    "\n",
    "G.addBiEdge( V[6], V[7], 1 )\n",
    "\n",
    "G.addBiEdge( V[6], V[8], 6 )\n",
    "\n",
    "G.addBiEdge( V[7], V[8], 7 )\n"
   ]
  },
  {
   "cell_type": "code",
   "execution_count": 28,
   "id": "2ac81f26",
   "metadata": {},
   "outputs": [
    {
     "name": "stdout",
     "output_type": "stream",
     "text": [
      "Graph with:\n",
      "\t Vertices:\n",
      "\tA,B,C,D,E,F,G,H,I,\n",
      "\t Edges:\n",
      "\t(A,B,4) (A,H,8) (B,A,4) (B,H,11) (B,C,8) (C,B,8) (C,D,7) (C,F,4) (C,I,2) (D,C,7) (D,E,9) (D,F,14) (E,D,9) (E,F,10) (F,D,14) (F,E,10) (F,C,4) (F,G,2) (G,F,2) (G,H,1) (G,I,6) (H,A,8) (H,B,11) (H,G,1) (H,I,7) (I,C,2) (I,G,6) (I,H,7) \n",
      "\n"
     ]
    }
   ],
   "source": [
    "print(G)"
   ]
  },
  {
   "cell_type": "markdown",
   "id": "10941ad1",
   "metadata": {},
   "source": [
    "This is what we had in the lectures as the slow implementation of Prim's Algorithm"
   ]
  },
  {
   "cell_type": "code",
   "execution_count": 29,
   "id": "c75594c0",
   "metadata": {},
   "outputs": [],
   "source": [
    "# G is graph\n",
    "# s is the node to start\n",
    "\n",
    "def slowPrim(G, s):\n",
    "    \n",
    "    # first, find the lightest edge leaving s\n",
    "    bestWt = np.inf\n",
    "    bestu = None\n",
    "    \n",
    "    for u,wt in s.getOutNeighborsWithWeights():\n",
    "        \n",
    "        if wt < bestWt:\n",
    "            bestWt = wt\n",
    "            bestu = u\n",
    "    \n",
    "    MST = [ (s, bestu) ]\n",
    "    verticesVisited = [s,bestu]\n",
    "    \n",
    "    while len(verticesVisited) < len(G.vertices): # danger! this will loop forever if the graph isn't connected...\n",
    "        \n",
    "        # find the lightest edge (x,v) so that x has been visited and v hasn't.\n",
    "        # Finding the Lightest Edge Connecting the MST to an Unvisited Node\n",
    "        bestWt = np.inf\n",
    "        bestv = None\n",
    "        bestx = None\n",
    "\n",
    "        \n",
    "        for x in verticesVisited:\n",
    "            for v,wt in x.getOutNeighborsWithWeights():\n",
    "                \n",
    "                if v in verticesVisited:\n",
    "                    continue\n",
    "                \n",
    "                if wt < bestWt:\n",
    "                    bestWt = wt\n",
    "                    bestv = v\n",
    "                    bestx = x\n",
    "                    \n",
    "        MST.append((bestx,bestv))\n",
    "        verticesVisited.append(bestv)\n",
    "    \n",
    "    return MST"
   ]
  },
  {
   "cell_type": "code",
   "execution_count": 30,
   "id": "f6ff20d2",
   "metadata": {},
   "outputs": [
    {
     "name": "stdout",
     "output_type": "stream",
     "text": [
      "A B\n",
      "A H\n",
      "H G\n",
      "G F\n",
      "F C\n",
      "C I\n",
      "C D\n",
      "D E\n"
     ]
    }
   ],
   "source": [
    "T = slowPrim(G, G.vertices[0])\n",
    "\n",
    "for x,y in T:\n",
    "    print(x,y)"
   ]
  },
  {
   "cell_type": "markdown",
   "id": "3f2b31e2",
   "metadata": {},
   "source": [
    "Okay, it seems to be working fine, but as we discussed, will be quite slow. Let us see if we can work on the faster version of the code as:"
   ]
  },
  {
   "cell_type": "markdown",
   "id": "42212e3d",
   "metadata": {},
   "source": [
    "### <font color='red'> Activity 2: In lights of Prim's Algorithm above, write an efficient implementation based on our discussions in the Seminar/Lecture. </font>\n",
    "\n",
    "Why the prim implementation is more efficient?\n"
   ]
  },
  {
   "cell_type": "code",
   "execution_count": 31,
   "id": "e32585d1",
   "metadata": {},
   "outputs": [],
   "source": [
    "def prim(G,w):\n",
    "    \n",
    "    for v in G.vertices:\n",
    "        v.status = \"unvisited\"\n",
    "        v.estD = np.inf\n",
    "        v.parent = None\n",
    "        \n",
    "    w.estD = 0\n",
    "    \n",
    "    MST = []\n",
    "    verticesVisited = []\n",
    "    \n",
    "    while len(verticesVisited) < len(G.vertices): # Until all the vertex are reached\n",
    "        # Find the vertice u with smallest key \n",
    "        bestWt = np.inf\n",
    "        bestu = None\n",
    "        for u in G.vertices:\n",
    "            if u.status == \"unvisited\" and u.estD < bestWt:\n",
    "                bestWt = u.estD\n",
    "                bestu = u\n",
    "                \n",
    "        # Update keys of u's neighbors v\n",
    "        for v, wt in bestu.getOutNeighborsWithWeights():\n",
    "            if wt < v.estD:\n",
    "                v.estD = wt\n",
    "                v.parent = bestu\n",
    "        \n",
    "        # Mark u as reached\n",
    "        bestu.status = \"visited\"\n",
    "        verticesVisited.append(bestu)\n",
    "        \n",
    "        # Add (parent[u], u) to the MST\n",
    "        MST.append((bestu.parent, bestu))\n",
    "                    \n",
    "    return MST"
   ]
  },
  {
   "cell_type": "code",
   "execution_count": 34,
   "id": "9376b7df",
   "metadata": {},
   "outputs": [],
   "source": [
    "import heapq\n",
    "class Vertex:\n",
    "    def __init__(self, name):\n",
    "        self.name = name\n",
    "        self.neighbors = []  \n",
    "    \n",
    "    def add_neighbor(self, neighbor, weight):\n",
    "        self.neighbors.append((neighbor, weight))\n",
    "\n",
    "# def optimized_prim(vertices, start):\n",
    "#     verticesVisited = set()\n",
    "#     heap = []  \n",
    "#     MST = []\n",
    "    \n",
    "#     heapq.heappush(heap, (0, None, start))\n",
    "\n",
    "#     while heap:\n",
    "#         edge_wt, current, neighbor = heapq.heappop(heap)\n",
    "\n",
    "#         if neighbor in verticesVisited:\n",
    "#             continue\n",
    "#         verticesVisited.add(neighbor)\n",
    "#         if current is not None:\n",
    "#             MST.append((current, neighbor))\n",
    "#         for next_neighbor, next_edge_wt in neighbor.neighbors:\n",
    "#             if next_neighbor not in verticesVisited:\n",
    "#                 heapq.heappush(heap, (next_edge_wt, neighbor, next_neighbor))\n",
    "#     return MST\n",
    "\n",
    "# import heapq\n",
    "\n",
    "def optimized_prim(vertices, start):\n",
    "    verticesVisited = set()\n",
    "    heap = []  \n",
    "    MST = []\n",
    "    \n",
    "    heapq.heappush(heap, (0, None, start))\n",
    "\n",
    "    while heap:\n",
    "        edge_wt, current, neighbor = heapq.heappop(heap)\n",
    "\n",
    "        if neighbor in verticesVisited:\n",
    "            continue\n",
    "        verticesVisited.add(neighbor)\n",
    "        if current is not None:\n",
    "            MST.append((current, neighbor))\n",
    "        for next_neighbor, next_edge_wt in neighbor.getOutNeighborsWithWeights():\n",
    "            if next_neighbor not in verticesVisited:\n",
    "\n",
    "                heapq.heappush(heap, (next_edge_wt, neighbor, next_neighbor))\n",
    "    return MST\n",
    "\n"
   ]
  },
  {
   "cell_type": "code",
   "execution_count": 33,
   "id": "e6c07571",
   "metadata": {},
   "outputs": [
    {
     "name": "stdout",
     "output_type": "stream",
     "text": [
      "4\n",
      "8\n",
      "11\n",
      "8\n",
      "1\n",
      "7\n",
      "2\n",
      "6\n",
      "14\n",
      "10\n",
      "4\n",
      "7\n",
      "2\n",
      "9\n",
      "A B\n",
      "A H\n",
      "H G\n",
      "G F\n",
      "F C\n",
      "C I\n",
      "C D\n",
      "D E\n"
     ]
    }
   ],
   "source": [
    "T = optimized_prim(G, G.vertices[0])\n",
    "\n",
    "\n",
    "for x,y in T:\n",
    "    print(x,y)"
   ]
  },
  {
   "cell_type": "markdown",
   "id": "cc0f5215",
   "metadata": {},
   "source": [
    "***"
   ]
  }
 ],
 "metadata": {
  "kernelspec": {
   "display_name": "Python 3 (ipykernel)",
   "language": "python",
   "name": "python3"
  },
  "language_info": {
   "codemirror_mode": {
    "name": "ipython",
    "version": 3
   },
   "file_extension": ".py",
   "mimetype": "text/x-python",
   "name": "python",
   "nbconvert_exporter": "python",
   "pygments_lexer": "ipython3",
   "version": "3.1.undefined"
  }
 },
 "nbformat": 4,
 "nbformat_minor": 5
}
