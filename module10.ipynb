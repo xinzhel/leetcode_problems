{
 "cells": [
  {
   "cell_type": "code",
   "execution_count": null,
   "metadata": {},
   "outputs": [],
   "source": []
  },
  {
   "cell_type": "markdown",
   "metadata": {},
   "source": [
    "## The Master Theorem: Formulation 1\n",
    "\n",
    "$T(n)=a T\\left(\\frac{n}{b}\\right)+O\\left(n^d\\right)$\n",
    "\n",
    "$T(n)= \\begin{cases}O\\left(n^d \\log (n)\\right), & \\text { if } a=b^d \\\\ O\\left(n^d\\right), & \\text { if } a<b^d \\\\ O\\left(n^{\\log _b(a)}\\right) & \\text { if } a>b^d\\end{cases}$\n",
    "\n",
    "\n",
    "## The Master Theorem: Formulation 2\n",
    "$T(n)=n^{\\log _b a}[U(n)]$\n",
    "\n",
    "$U(n)= \\begin{cases}O\\left(n^r\\right), & \\text { if } h(n) \\text { is } n^r, r>0 \\\\ O(1), & \\text { if } h(n) \\text { is } n^r, r<0 \\\\ \\frac{\\left(\\log _2 n\\right)^{i+1}}{i+1} & \\text { if } h(n) \\text { is }(\\log n)^i, i \\geq 0\\end{cases}$\n",
    "\n",
    "$h(n)=\\frac{f(n)}{n^{\\log _b a}}$\n"
   ]
  },
  {
   "cell_type": "code",
   "execution_count": null,
   "metadata": {},
   "outputs": [],
   "source": []
  },
  {
   "cell_type": "markdown",
   "metadata": {},
   "source": [
    " ## Activity 1\n",
    " ### $T(n) = nT(n-1)$\n",
    "\n",
    "\n",
    " ### $T(n) = T(n-1)+ \\log n$\n",
    "\n",
    "\n",
    " ### $T(n) = 3T(n/2) + n $\n",
    "\n",
    "**Step 1: Expand the Recurrence**\n",
    "\n",
    "\\begin{aligned}\n",
    "T(n) & =3 T(n / 2)+n \\\\\n",
    "&=3[3 T(n / 4)+n / 2]+n \\\\\n",
    "&=3^2 T(n / 4)+\\frac{3}{2} n + n \\\\\n",
    "\n",
    "&....\\\\\n",
    "&= 3^kT(n/2^k) + \\frac{3^{k-1}}{2^{k-1}} n + ... + \\frac{3^2}{2^2} n + \\frac{3^1}{2^1} n + n\n",
    "\\end{aligned}\n",
    "\n",
    "**Step 2: Find the Point Where Recursion Stops**\n",
    "\n",
    "The recursion stops when  $\\frac{n}{2^k} = 1$  or  $k = \\log_2 n$ . \n",
    "\n",
    "Substituting this value of  k  into our expanded recurrence:\n",
    " $T(n) = 3^{\\log_2 n}T(1) + n(\\text{A geometric series where a=1, r=3/2})$\n",
    "\n",
    " \n",
    "\n",
    "\n",
    "\n",
    "**Step 3: Simplify the Expression**\n",
    "\n",
    "We can express  $3^{\\log_2 n}$  as:\n",
    "$$2^{\\log _2 3 \\cdot \\log _2 n}=n^{\\log _2 3}$$\n",
    "\n",
    "So, the dominant term in the recurrence is  $n^{\\log_2 3}$ .\n",
    "\n"
   ]
  },
  {
   "cell_type": "markdown",
   "metadata": {},
   "source": [
    "## Activity 2\n",
    "$T(n) = T(\\sqrt{n}) + log n$\n",
    "\n",
    "To use the Master Theorem, we first need to recognize that this recurrence doesn't fit the standard form for the Master Theorem, which is:\n",
    "\n",
    " $T(n) = aT(\\frac{n}{b}) + f(n)$\n",
    "\n",
    "However, we can still attempt to apply the Master Theorem by making a change of variables to transform the recurrence into a more recognizable form.\n",
    "\n",
    "**Step 1: Change of Variables**\n",
    "\n",
    "Let's set  $m = \\log n$ . Then,  $n = 2^m$  and  $\\sqrt{n} = 2^{m/2}$ .\n",
    "\n",
    "Let $S(m) = T(2^m)$, then $S(m) = S(\\frac{m}{2}) + m $\n",
    "\n",
    "\n",
    "\n",
    "**Step 2: Apply the Master Theorem**\n",
    "\n",
    "$S(m)=m$\n",
    "\n",
    "**Conclusion**:\n",
    "The solution to the recurrence  $T(n) = T(\\sqrt{n}) + \\log n$  is  $\\Theta(\\log n)$ ."
   ]
  },
  {
   "cell_type": "markdown",
   "metadata": {},
   "source": [
    "## Activity 3\n",
    "Solve following recurrence using recursion tree method:\n",
    "$$T(n)=2 T(n / 2)+c n$$\n",
    "\n",
    "<img src=\"pics/recursion_complexity.png\">\n"
   ]
  },
  {
   "cell_type": "markdown",
   "metadata": {},
   "source": [
    "## Activity 4: Use Akra-Baazi or induction method to solve the recurrence of quick sort\n",
    "We had a detailed analysis of select(A,k) problem in this module. Based on what you \n",
    "learned from this problem, analyse the complexity of Quick Sort Algorithm. Note, quick sort \n",
    "will lead to unbalanced sub-problems (much like select(A,k)) problem. You are expected to \n",
    "use either Akra-Baazi or induction method to solve the recurrence.\n",
    "\n",
    "<img src=\"pics/induction_method.png\">\n",
    "\n",
    "\n"
   ]
  },
  {
   "cell_type": "markdown",
   "metadata": {},
   "source": []
  },
  {
   "cell_type": "markdown",
   "metadata": {},
   "source": []
  },
  {
   "cell_type": "markdown",
   "metadata": {
    "vscode": {
     "languageId": "plaintext"
    }
   },
   "source": []
  },
  {
   "cell_type": "code",
   "execution_count": 8,
   "metadata": {},
   "outputs": [
    {
     "data": {
      "text/plain": [
       "array([4., 5., 6.])"
      ]
     },
     "execution_count": 8,
     "metadata": {},
     "output_type": "execute_result"
    }
   ],
   "source": [
    "np.dot(np.array(A), x)"
   ]
  },
  {
   "cell_type": "code",
   "execution_count": null,
   "metadata": {},
   "outputs": [],
   "source": []
  }
 ],
 "metadata": {
  "kernelspec": {
   "display_name": "langchain",
   "language": "python",
   "name": "python3"
  },
  "language_info": {
   "codemirror_mode": {
    "name": "ipython",
    "version": 3
   },
   "file_extension": ".py",
   "mimetype": "text/x-python",
   "name": "python",
   "nbconvert_exporter": "python",
   "pygments_lexer": "ipython3",
   "version": "3.11.4"
  },
  "orig_nbformat": 4
 },
 "nbformat": 4,
 "nbformat_minor": 2
}
