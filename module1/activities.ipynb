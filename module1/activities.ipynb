{
 "cells": [
  {
   "attachments": {},
   "cell_type": "markdown",
   "metadata": {},
   "source": [
    "Setup Python Environment\n",
    "\n",
    "5. Provide evidence that you have the Anaconda Navigator installed.\n",
    "6. Provide evidence that you have created a new environment on your machine called SIT320.\n",
    "7. Provide evidence that you have executed a basic Python code with some while and if statements.\n",
    "```\n",
    "For those using Windows and familiar with Linux command lines or bash, you can refer to [my Python environment setup](https://gist.github.com/xinzhel/e6e60d5aece30703fb10f0b2e555e639).\n",
    "```\n",
    "-------------------------------------------------------------------------------"
   ]
  },
  {
   "attachments": {},
   "cell_type": "markdown",
   "metadata": {},
   "source": [
    "Refresh or learn some Python\n",
    "\n",
    "4. Download the reference sheet from here: [Python Programming Reference Sheet](https://d2l.deakin.edu.au/content/enforced/1316240-SIT320_TRI-2_2023/Python%20Reference%20Sheet.docx?_&d2lSessionVal=2QZr4azKAOZWJx1SuMuydozqe&ou=1316240), and fill in the details.\n",
    "\n",
    "-------------------------------------------------------------------------------"
   ]
  },
  {
   "attachments": {},
   "cell_type": "markdown",
   "metadata": {},
   "source": [
    "Case Study: Play with Tic-tac-toe\n",
    "<!--select left parenthesis: \\((?=\\d+\\)) -->\n",
    "\n",
    "<!-- select right parenthesis: (?<=\\d+)\\) -->\n",
    "\n",
    "1. Before you move on, print this form SIT320 - PlanningForm and sign it if you are okay with the deadlines. If not, discuss with your tutor, if we can come-up with a different plan for you. Note, this is not a binding document, the intention here is to make you plan for the unit, as there are more modules than the number of weeks.\n",
    "\n",
    "2. Given a top-down perspective on algorithms, how would you go about solving a 'Rubik's Cube' or ' tic-tac-toe'? Note, we are not interested in your computer program, but in your pseudo-code and problem solving strategy.\n",
    "\n",
    "```\n",
    "Top-down perspective on algorithms: formulating problems into existing domains with hands-on tools. Then the next question it to select/modify/create suitable algorithms\n",
    "```\n",
    "\n",
    "3. Write a pseudo-code of your solver Or record a video (like that of Gaurav Sen) of yourself, explaining your strategy.\n"
   ]
  },
  {
   "attachments": {},
   "cell_type": "markdown",
   "metadata": {},
   "source": [
    "\n",
    "8. Write at least three test-cases for your Rubik's cube or tic-tac-toe algorithm.\n"
   ]
  }
 ],
 "metadata": {
  "language_info": {
   "name": "python"
  },
  "orig_nbformat": 4
 },
 "nbformat": 4,
 "nbformat_minor": 2
}
