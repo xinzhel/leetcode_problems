{
 "cells": [
  {
   "attachments": {},
   "cell_type": "markdown",
   "metadata": {},
   "source": [
    "## Function, Data types"
   ]
  },
  {
   "cell_type": "code",
   "execution_count": 1,
   "metadata": {},
   "outputs": [],
   "source": [
    "from typing import S\n",
    "x = [3]\n",
    "def add2(x):\n",
    "  x[0] = x[0] +2\n",
    "\n",
    "add2(x)\n",
    "x"
   ]
  },
  {
   "attachments": {},
   "cell_type": "markdown",
   "metadata": {},
   "source": [
    "## Conditional control flow"
   ]
  },
  {
   "cell_type": "code",
   "execution_count": null,
   "metadata": {},
   "outputs": [],
   "source": [
    "\n",
    "xx = 0\n",
    "if False:\n",
    "  xx = 3 \n",
    "\n",
    "y = 4\n",
    "print(xx,)\n",
    "\n",
    "xxx = 0\n"
   ]
  },
  {
   "attachments": {},
   "cell_type": "markdown",
   "metadata": {},
   "source": [
    "## Loop"
   ]
  },
  {
   "cell_type": "code",
   "execution_count": null,
   "metadata": {},
   "outputs": [],
   "source": [
    "\n",
    "i = 1\n",
    "while  True:\n",
    "  xxx = xxx + 2\n",
    "  print(xxx)\n",
    "  if i==2:   \n",
    "    break\n",
    "  i = i+1\n",
    "\n",
    "xxx = 0\n",
    "for i in [0, 1]:\n",
    "  xxx = xxx +2\n",
    "print(xxx)\n",
    "# if \n",
    "# else\n",
    "\n",
    "# Iterative Control flow\n",
    "# while\n",
    "\n",
    "# for\n"
   ]
  }
 ],
 "metadata": {
  "kernelspec": {
   "display_name": "sit720",
   "language": "python",
   "name": "python3"
  },
  "language_info": {
   "codemirror_mode": {
    "name": "ipython",
    "version": 3
   },
   "file_extension": ".py",
   "mimetype": "text/x-python",
   "name": "python",
   "nbconvert_exporter": "python",
   "pygments_lexer": "ipython3",
   "version": "3.10.9"
  },
  "orig_nbformat": 4
 },
 "nbformat": 4,
 "nbformat_minor": 2
}
