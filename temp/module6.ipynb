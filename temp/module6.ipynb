{
 "cells": [
  {
   "attachments": {},
   "cell_type": "markdown",
   "metadata": {},
   "source": [
    "* Dijkstra Algorithm\n",
    "   * All unexplored vertices have longer distances than explored ones.\n",
    "   * The 1st path in the path queue must be the shortest path to the end of that path from S to the vertex, because 1) all the other paths in the path queue are longer than this path, hence no shorter walkaround. 2) all other paths to be included in the path queue are longer than this path, since they must be longer than all the paths in the current path queue.\n",
    "   * Other path in the path queue may not be the shortest path to the end of that path from S\n",
    "   * To find the path at the end, we should use linked list for each vertex.\n",
    "\n",
    "* Module 6: Graph\n",
    "\n",
    "1. Have a look at the associated ipython notebook and run the code for Dijkstra. Demonstrate your understanding of the code by:\n",
    "   Running the code with many different test-cases.\n",
    "   Modify the code to output the nodes in the shortest path instead of just the cost of the shortest path.\n",
    "2. Modify Dijkstra's Algorithm in this week's lab to do a Bellman-Ford instead.\n",
    "   Test case where BF handles negative cycles in the graph.\n",
    "   Clearly differentiate the working of two algorithms.\n",
    "3. Have a look at the following Python's implementation of heap (priority Queues): HeapDict, and try to convert our Dijkstra's implementation to use this heap data structure instead.\n",
    "4. Write a brief report comparing 'Dynamic Programming' with 'Divide-and-Conquer' strategy? (If you are not familiar with Divide-and-Conquer strategy - revisit Quick Sort or Binary Search algorithms. You should address why we can not use DP for Quick Sort or Binary Sort)\n",
    "5. You are running up a staircase with a total of n steps. You can hop either 1 step, 2 steps or 3 steps at at time. Write a DP program to determine how many possible ways you can run up the stairs? (Hint: Start with a recursive solution, and then later move to top-down approach of DP).\n",
    "6. Write down the algorithm for Floyd-Warshall, and implement this in this weeks' lab notebook.\n",
    "\n",
    "* Module 7 Dynamic Programming\n",
    "* Module 12 AI Algorithms\n",
    "\n",
    "1. [D] Make sure you understand the content in this section, and write your detailed reflections.\n",
    "2. [D] Have a look at the associated ipython notebook and run the code for computing Eigen vectors and values with power-iteration method. Demonstrate your understanding of the code by:\n",
    "   Wrapping-up the code in a generic function, which receives any data of size N and dimensionality n.\n",
    "3. [D] Based on your code in Q1, do a PCA analysis on iris.txt data. You will be doing a similar analysis as this: Iris_PCA_Analysis_Example but with your own written PCA function.\n",
    "   (4) [D] Make sure you understand the content in this section, and write your detailed reflections.\n",
    "   (5) [D] Have a look at SVD and UV Decomposition code given to you. You are given the code in the context of building a Recommender System. You will be needing ml-100k data files (attached with the lab notebook). Demonstrate your understanding by doing:\n",
    "\n",
    "+ Compare UV and SVD decompositions.\n",
    "+ Running the code with many different test-cases.\n",
    "+ Alter the code and obtain some desired functionality.\n",
    "  (6) [D] Make sure you understand the content in this section, and write your detailed reflections.\n",
    "  (7) [D] Have a look at the associated ipython notebook and run the code for Computational Graph building. Demonstrate your understanding of the code by:\n",
    "  Running the code with multi-variate computational graph (e.g., x2 + log(y) + 3z3)\n",
    "  Running the code with many different test-cases.\n",
    "  Alter the code and obtain some desired functionality.\n",
    "  Find errors in the code, or Expand the code.\n"
   ]
  }
 ],
 "metadata": {
  "language_info": {
   "name": "python"
  },
  "orig_nbformat": 4
 },
 "nbformat": 4,
 "nbformat_minor": 2
}
