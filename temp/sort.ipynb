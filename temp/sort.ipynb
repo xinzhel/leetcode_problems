{
 "cells": [
  {
   "cell_type": "code",
   "execution_count": 9,
   "metadata": {},
   "outputs": [],
   "source": [
    "# sorting a sequence of n numbers\n",
    "def insertion_sort(A):\n",
    "    for j in range(1, len(A)):\n",
    "        # insert A[j] into the sorted sequence A[0..j-1]\n",
    "        for i in range(j):\n",
    "            if A[i] > A[j]:\n",
    "                A[i], A[j] = A[j], A[i]\n",
    "    return A\n",
    "\n",
    "def merge_sort(A):\n",
    "    if len(A) > 1:\n",
    "        mid = len(A)//2\n",
    "        L = A[:mid]\n",
    "        R = A[mid:]\n",
    "        merge_sort(L)\n",
    "        merge_sort(R)\n",
    "        i = j = k = 0\n",
    "        while i < len(L) and j < len(R):\n",
    "            if L[i] < R[j]:\n",
    "                A[k] = L[i]\n",
    "                i = i+1\n",
    "            else:\n",
    "                A[k] = R[j]\n",
    "                j = j+1\n",
    "            k = k+1\n",
    "        while i < len(L):\n",
    "            A[k] = L[i]\n",
    "            i = i+1\n",
    "            k = k+1\n",
    "        while j < len(R):\n",
    "            A[k] = R[j]\n",
    "            j = j+1\n",
    "            k = k+1\n",
    "    return A"
   ]
  },
  {
   "cell_type": "code",
   "execution_count": 10,
   "metadata": {},
   "outputs": [
    {
     "data": {
      "text/plain": [
       "[26, 31, 41, 41, 58, 59]"
      ]
     },
     "execution_count": 10,
     "metadata": {},
     "output_type": "execute_result"
    }
   ],
   "source": [
    "# define a list containing 31; 41; 59; 26; 41; 58\n",
    "A = [31, 41, 59, 26, 41, 58]\n",
    "insertion_sort(A)"
   ]
  },
  {
   "cell_type": "code",
   "execution_count": null,
   "metadata": {},
   "outputs": [],
   "source": []
  }
 ],
 "metadata": {
  "kernelspec": {
   "display_name": "sit720",
   "language": "python",
   "name": "python3"
  },
  "language_info": {
   "codemirror_mode": {
    "name": "ipython",
    "version": 3
   },
   "file_extension": ".py",
   "mimetype": "text/x-python",
   "name": "python",
   "nbconvert_exporter": "python",
   "pygments_lexer": "ipython3",
   "version": "3.10.9"
  },
  "orig_nbformat": 4
 },
 "nbformat": 4,
 "nbformat_minor": 2
}
