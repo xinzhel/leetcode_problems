{
 "cells": [
  {
   "cell_type": "code",
   "execution_count": null,
   "id": "de721946",
   "metadata": {},
   "outputs": [
    {
     "name": "stdout",
     "output_type": "stream",
     "text": [
      "x: -25383, base: 100000\n",
      "new_val: -1\n",
      "x: 74617, base: 10000\n",
      "new_val: 69\n",
      "x: 4617, base: 1000\n",
      "new_val: 469\n",
      "x: 617, base: 100\n",
      "new_val: 6469\n",
      "x: 17, base: 10\n",
      "new_val: 16469\n",
      "x: 7, base: 1\n",
      "new_val: 716469\n",
      "716469\n"
     ]
    }
   ],
   "source": [
    "# 7. Reverse Integer\n",
    "def reverse( x):\n",
    "    \"\"\"\n",
    "    :type x: int\n",
    "    :rtype: int\n",
    "    \"\"\"\n",
    "    start = len(str(x)) - 1 \n",
    "    new_val = 0\n",
    "    new_base = 1\n",
    "    for i in range(start, -1, -1):\n",
    "        \n",
    "        base = 10**i\n",
    "        print(f\"x: {x}, base: {base}\")\n",
    "        j = x // base\n",
    "        \n",
    "        # deal with reverse\n",
    "        new_val += new_base*j\n",
    "        new_base *= 10\n",
    "        print(f\"new_val: {new_val}\")\n",
    "        \n",
    "        x = x % base\n",
    "        \n",
    "    new_val += x\n",
    "    return new_val\n",
    "\n",
    "x = -25383\n",
    "print(reverse(x))\n"
   ]
  },
  {
   "cell_type": "code",
   "execution_count": 39,
   "id": "615a1c68",
   "metadata": {},
   "outputs": [
    {
     "ename": "KeyboardInterrupt",
     "evalue": "",
     "output_type": "error",
     "traceback": [
      "\u001b[0;31m---------------------------------------------------------------------------\u001b[0m",
      "\u001b[0;31mKeyboardInterrupt\u001b[0m                         Traceback (most recent call last)",
      "Cell \u001b[0;32mIn[39], line 9\u001b[0m\n\u001b[1;32m      6\u001b[0m         reversed_num \u001b[38;5;241m=\u001b[39m reversed_num \u001b[38;5;241m*\u001b[39m \u001b[38;5;241m10\u001b[39m \u001b[38;5;241m+\u001b[39m last_digit\n\u001b[1;32m      7\u001b[0m     \u001b[38;5;28;01mreturn\u001b[39;00m reversed_num\n\u001b[0;32m----> 9\u001b[0m \u001b[43mreverse\u001b[49m\u001b[43m(\u001b[49m\u001b[43mx\u001b[49m\u001b[43m)\u001b[49m\n",
      "Cell \u001b[0;32mIn[39], line 3\u001b[0m, in \u001b[0;36mreverse\u001b[0;34m(x)\u001b[0m\n\u001b[1;32m      1\u001b[0m \u001b[38;5;28;01mdef\u001b[39;00m \u001b[38;5;21mreverse\u001b[39m(x):\n\u001b[1;32m      2\u001b[0m     reversed_num \u001b[38;5;241m=\u001b[39m \u001b[38;5;241m0\u001b[39m\n\u001b[0;32m----> 3\u001b[0m     \u001b[38;5;28;01mwhile\u001b[39;00m x \u001b[38;5;241m!=\u001b[39m \u001b[38;5;241m0\u001b[39m:\n\u001b[1;32m      4\u001b[0m         last_digit \u001b[38;5;241m=\u001b[39m x \u001b[38;5;241m%\u001b[39m \u001b[38;5;241m10\u001b[39m\n\u001b[1;32m      5\u001b[0m         x \u001b[38;5;241m=\u001b[39m x \u001b[38;5;241m/\u001b[39m\u001b[38;5;241m/\u001b[39m \u001b[38;5;241m10\u001b[39m\n",
      "\u001b[0;31mKeyboardInterrupt\u001b[0m: "
     ]
    }
   ],
   "source": [
    "def reverse(x):\n",
    "    reversed_num = 0\n",
    "    while x != 0:\n",
    "        last_digit = x % 10\n",
    "        x = x // 10\n",
    "        reversed_num = reversed_num * 10 + last_digit\n",
    "    return reversed_num\n",
    "\n",
    "reverse(x)\n",
    "\n"
   ]
  },
  {
   "cell_type": "code",
   "execution_count": null,
   "id": "d0f073da",
   "metadata": {},
   "outputs": [
    {
     "data": {
      "text/plain": [
       "[[1, 2], [1, 3], [1, 4], [2, 3], [2, 4], [3, 4]]"
      ]
     },
     "execution_count": 144,
     "metadata": {},
     "output_type": "execute_result"
    }
   ],
   "source": [
    "# 77. Combinations\n",
    "def combine(n, k):\n",
    "    res = []\n",
    "\n",
    "    def backtrack(start, path):\n",
    "        if len(path) == k:\n",
    "            res.append(path[:])\n",
    "            return\n",
    "        \n",
    "        for i in range(start, n + 1):\n",
    "            path.append(i)\n",
    "            backtrack(i+1, path)\n",
    "            path.pop()  \n",
    "\n",
    "    backtrack(0, [])\n",
    "    return res\n",
    "\n",
    "\n",
    "combine(3, 2)"
   ]
  },
  {
   "cell_type": "code",
   "execution_count": null,
   "id": "d57d47fc",
   "metadata": {},
   "outputs": [
    {
     "data": {
      "text/plain": [
       "[[1, 1], [1, 4], [1, 2], [4, 1], [4, 4], [4, 2], [2, 1], [2, 4], [2, 2]]"
      ]
     },
     "execution_count": 159,
     "metadata": {},
     "output_type": "execute_result"
    }
   ],
   "source": [
    "k =2\n",
    "res = []\n",
    "nums = [1, 4, 2]\n",
    "def backtrack(used_num, cur_path):\n",
    "    if len(cur_path) == k:\n",
    "        res.append(cur_path[:])\n",
    "        return\n",
    "    \n",
    "    for i in range(used_num, len(nums)):\n",
    "        cur_path.append(nums[i])\n",
    "        backtrack(i+1, cur_path)\n",
    "        cur_path.pop()\n",
    "        \n",
    "backtrack(0, [])\n",
    "res"
   ]
  },
  {
   "cell_type": "code",
   "execution_count": null,
   "id": "72b87131",
   "metadata": {},
   "outputs": [
    {
     "data": {
      "text/plain": [
       "[[1, 1, 2], [1, 2, 1], [2, 1, 1]]"
      ]
     },
     "execution_count": 169,
     "metadata": {},
     "output_type": "execute_result"
    }
   ],
   "source": [
    "# 46. Permutations\n",
    "def permute(nums):\n",
    "    \"\"\"\n",
    "    :type nums: List[int]\n",
    "    :rtype: List[List[int]]\n",
    "    \"\"\"\n",
    "    res = []\n",
    "    def backtrack(used_num, cur_path):\n",
    "        if len(cur_path) == len(nums):\n",
    "            # expensive duplicate check: O(len(res)*n) , where len(res[i]) = n\n",
    "            if cur_path not in res:\n",
    "                res.append(cur_path[:])\n",
    "            return\n",
    "        \n",
    "        for i in range(len(nums)):\n",
    "            if i  in used_num:\n",
    "                continue\n",
    "            cur_path.append(nums[i])\n",
    "            used_num.append(i)\n",
    "            backtrack(used_num, cur_path)\n",
    "            cur_path.pop()\n",
    "            used_num.pop()\n",
    "            \n",
    "    backtrack([], [])\n",
    "    return res\n",
    "\n",
    "permute([1,1,2])"
   ]
  },
  {
   "cell_type": "code",
   "execution_count": 172,
   "id": "6e7b5ccf",
   "metadata": {},
   "outputs": [
    {
     "data": {
      "text/plain": [
       "[[1, 1, 1, 2], [1, 1, 2, 1], [1, 2, 1, 1], [2, 1, 1, 1]]"
      ]
     },
     "execution_count": 172,
     "metadata": {},
     "output_type": "execute_result"
    }
   ],
   "source": [
    "def permute(nums):\n",
    "    \"\"\"\n",
    "    :type nums: List[int]\n",
    "    :rtype: List[List[int]]\n",
    "    \"\"\"\n",
    "    res = []\n",
    "    def backtrack(used_num, cur_path):\n",
    "        if len(cur_path) == len(nums):\n",
    "            #### NEW!!! expensive duplicate check: O(len(res)*n) , where len(res[i]) = n\n",
    "            if cur_path not in res:\n",
    "                res.append(cur_path[:])\n",
    "            ####\n",
    "            return\n",
    "        \n",
    "        for i in range(len(nums)):\n",
    "            if i  in used_num:\n",
    "                continue\n",
    "            cur_path.append(nums[i])\n",
    "            used_num.append(i)\n",
    "            backtrack(used_num, cur_path)\n",
    "            cur_path.pop()\n",
    "            used_num.pop()\n",
    "            \n",
    "    backtrack([], [])\n",
    "    return res\n",
    "\n",
    "permute([1,1,2, 3])\n",
    "\n",
    "\n",
    "def permuteUnique( nums):\n",
    "    nums.sort()              # ← new: sort to bring duplicates together\n",
    "    res = []\n",
    "    def backtrack(used, path):\n",
    "        if len(path) == len(nums):\n",
    "            res.append(path[:])       # no more \"if path not in res\" needed\n",
    "            return\n",
    "\n",
    "        for i in range(len(nums)):\n",
    "            if i in used:\n",
    "                continue\n",
    "            # ← new: skip duplicates unless the previous identical was just used\n",
    "            if i > 0 and nums[i] == nums[i-1] and (i-1) not in used:\n",
    "                continue\n",
    "\n",
    "            used.add(i)\n",
    "            path.append(nums[i])\n",
    "            backtrack(used, path)\n",
    "            path.pop()\n",
    "            used.remove(i)\n",
    "\n",
    "    backtrack(set(), [])\n",
    "    return res\n",
    "permuteUnique([1,1,1,2])"
   ]
  },
  {
   "cell_type": "code",
   "execution_count": null,
   "id": "06ca469d",
   "metadata": {},
   "outputs": [
    {
     "data": {
      "text/plain": [
       "6"
      ]
     },
     "execution_count": 42,
     "metadata": {},
     "output_type": "execute_result"
    }
   ],
   "source": [
    "def comb(n, k):\n",
    "    if k == 0 or k == n:\n",
    "        return 1\n",
    "    return comb(n - 1, k - 1) + comb(n - 1, k)\n",
    "\n",
    "comb(4, 2) = comb(3, 1) + comb(3, 2)"
   ]
  },
  {
   "cell_type": "code",
   "execution_count": null,
   "id": "52f5aac2",
   "metadata": {},
   "outputs": [],
   "source": [
    "# 39. Combination Sum (Huawei London interview)\n",
    "def solution_huawei(candidates, target):\n",
    "    all_combs = []\n",
    "\n",
    "    def return_comb(lst, target, selected, mem):\n",
    "        if mem[selected]:\n",
    "            return mem[target-1]\n",
    "        if target == 0:\n",
    "            all_combs.append(selected)\n",
    "            return selected\n",
    "        if target < 0:\n",
    "            return selected\n",
    "        \n",
    "        for i in lst:\n",
    "            target -= i\n",
    "            selected += [i]\n",
    "            # print('s',selected)\n",
    "            selected = return_comb(lst, target, selected)\n",
    "            target += i\n",
    "            selected = selected[:-1]\n",
    "        \n",
    "        return selected\n",
    "\n",
    "    mem = {}\n",
    "    return_comb(candidates, target, [], mem)\n",
    "    return all_combs\n",
    "\n",
    "solution_huawei(candidates = [2,3,6,7], target = 7)"
   ]
  },
  {
   "cell_type": "code",
   "execution_count": null,
   "id": "fadbe951",
   "metadata": {},
   "outputs": [
    {
     "name": "stdout",
     "output_type": "stream",
     "text": [
      "before [2]\n",
      "before [2, 3]\n",
      "before [2, 3, 6]\n",
      "after [2, 3]\n",
      "before [2, 3, 7]\n",
      "after [2, 3]\n",
      "after [2]\n",
      "before [2, 6]\n",
      "after [2]\n",
      "before [2, 7]\n",
      "after [2]\n",
      "after []\n",
      "before [3]\n",
      "before [3, 6]\n",
      "after [3]\n",
      "before [3, 7]\n",
      "after [3]\n",
      "after []\n",
      "before [6]\n",
      "before [6, 7]\n",
      "after [6]\n",
      "after []\n",
      "before [7]\n",
      "find [7]\n",
      "Update [[7]]\n",
      "after []\n"
     ]
    },
    {
     "data": {
      "text/plain": [
       "[[7]]"
      ]
     },
     "execution_count": 158,
     "metadata": {},
     "output_type": "execute_result"
    }
   ],
   "source": [
    "def comb_sum(candidates, target):\n",
    "    results = []\n",
    "    def backtrack(start, cur_path):\n",
    "        if sum(cur_path) == target:\n",
    "            results.append( cur_path[:])\n",
    "            return\n",
    "        if sum(cur_path) >= target:\n",
    "            return\n",
    "        \n",
    "        for i in range(start, len(candidates)):\n",
    "            cur_path.append(candidates[i])\n",
    "            backtrack(i+1, cur_path)\n",
    "            cur_path.pop()\n",
    "        \n",
    "    backtrack(0, [])\n",
    "    return results\n",
    "        \n",
    "\n",
    "comb_sum(candidates = [2,3,6,7], target = 7)"
   ]
  },
  {
   "cell_type": "code",
   "execution_count": 104,
   "id": "4ac808c1",
   "metadata": {},
   "outputs": [
    {
     "name": "stdout",
     "output_type": "stream",
     "text": [
      "l 0 r 4 mid: 2\n",
      "l 0 r 1 mid: 0\n",
      "l 1 r 1 mid: 1\n",
      "1\n"
     ]
    }
   ],
   "source": [
    "# Binary Search - Leetcode 704 \n",
    "def search( nums, target):\n",
    "    \"\"\"\n",
    "    :type nums: List[int]\n",
    "    :type target: int\n",
    "    :rtype: int\n",
    "    \"\"\"\n",
    "    \n",
    "    def _search(begin_idx, end_idx):\n",
    "        if begin_idx > end_idx:\n",
    "            return -1\n",
    "\n",
    "        total = end_idx - begin_idx + 1\n",
    "        select = begin_idx + total // 2\n",
    "        if nums[select] == target:\n",
    "            return select\n",
    "        elif nums[select] < target:\n",
    "            result = _search(select+1, end_idx)\n",
    "        else: \n",
    "            result = _search(begin_idx, select-1)\n",
    "        return result\n",
    "\n",
    "    result = _search(0, len(nums)-1)\n",
    "    return result\n",
    "\n",
    "\n",
    "# print(search([1, 2, 3, 4, 5], 4))\n",
    "\n",
    "def search(nums, target):\n",
    "    l, r = 0, len(nums)-1\n",
    "    while l <= r:\n",
    "        mid = (l+r) // 2\n",
    "        print('l', l, 'r', r, 'mid:', mid)\n",
    "        if nums[mid] < target:\n",
    "            l = mid+1\n",
    "     \n",
    "        elif nums[mid] > target:\n",
    "            r = mid-1\n",
    "        else:\n",
    "            return mid\n",
    "    \n",
    "print(search([1, 2,  3, 4, 5], 2))\n",
    "    "
   ]
  },
  {
   "cell_type": "code",
   "execution_count": null,
   "id": "c48272ba",
   "metadata": {},
   "outputs": [],
   "source": [
    "# Valid Perfect Square - Leetcode 367 \n"
   ]
  },
  {
   "cell_type": "code",
   "execution_count": null,
   "id": "da07d372",
   "metadata": {},
   "outputs": [],
   "source": [
    "# Target Sum - Dynamic Programming - Leetcode 494 \n",
    "def aggregate_to_k(nums, k):\n",
    "    total = 0\n",
    "    #  + -\n",
    "    for i in range(len(nums)):\n",
    "        "
   ]
  },
  {
   "cell_type": "code",
   "execution_count": null,
   "id": "7f76f5b8",
   "metadata": {},
   "outputs": [
    {
     "data": {
      "text/plain": [
       "8"
      ]
     },
     "execution_count": 127,
     "metadata": {},
     "output_type": "execute_result"
    }
   ],
   "source": [
    "# Climbing Stairs - Dynamic Programming - Leetcode 70 \n",
    "\n",
    "def solution(n):\n",
    "    # mem = {}\n",
    "    def num_ways(n):\n",
    "\n",
    "        if n == 0: \n",
    "            return 1\n",
    "        if n == 1:\n",
    "            return 1\n",
    "\n",
    "        result =  (num_ways(n-1) )  + (num_ways(n-2) ) \n",
    "\n",
    "        return result\n",
    "            \n",
    "    return num_ways(n)\n",
    "solution(5)\n",
    "\n",
    "def climbStairs(n):\n",
    "    if n <= 2:\n",
    "        return n\n",
    "    \n",
    "    a, b = 1, 2  # dp[1], dp[2]\n",
    "    for _ in range(3, n + 1):\n",
    "        a, b = b, a + b\n",
    "    return b\n",
    "\n",
    "\n",
    "climbStairs(3)"
   ]
  },
  {
   "cell_type": "code",
   "execution_count": null,
   "id": "80b9339c",
   "metadata": {},
   "outputs": [
    {
     "data": {
      "text/plain": [
       "14"
      ]
     },
     "execution_count": 133,
     "metadata": {},
     "output_type": "execute_result"
    }
   ],
   "source": [
    "# Egg Drop With 2 Eggs and N Floors - Leetcode 1884\n",
    "# No matter when the first egg breaks, the total number of drops at the worst-case scenario is always a constant number, defined as x\n",
    "# Suppose the first egg breaks on the k-th drop, and f_{k} is the number of floors after the k attempts\n",
    "# k used \n",
    "# worst-case, how many more? (f_{k} - 1 - f_{k-1}) \n",
    "# goal: finding x satisfying k + (f_{k} - 1 - f_{k-1}) = x\n",
    "# f_{k} - f_{k-1} = x - (k -1)\n",
    "# f(0) = 0\n",
    "# f(1) = x\n",
    "# f(2) = f(1) + (x -1)\n",
    "# f(3) = x + (x -1)+ (x-2)\n",
    "# f(d) = x + (x -1)+ (x-2) + ... +1 >=n\n",
    "def min_drops_two_eggs(n):\n",
    "    \"\"\" Solved by one-step recurrence\n",
    "    \"\"\"\n",
    "    d = 0\n",
    "    g = 0  # g[d]=max floors testable with 2 eggs in d drops.\n",
    "    while g < n:          # tabulate until the state value exceeds n\n",
    "        d += 1\n",
    "        g += d            # g[d] = g[d-1] + d\n",
    "    return d\n",
    "\n",
    "def min_drops_two_eggs(n):\n",
    "    d =1\n",
    "    max_f = 1\n",
    "    while max_f < 100:\n",
    "        d += 1\n",
    "        max_f = (d*(d+1)) / 2\n",
    "    return d\n",
    "    \n",
    "    \n",
    "# floor 0 \n",
    "# d = 1 -> floor 1\n",
    "# d = 2 -> floor 3\n",
    "# d = 3 -> floor 6\n",
    "# d = 4 -> floor 10\n",
    "# ...\n",
    "# d=14 -> floor >100\n",
    "\n",
    "# d*(d+1) / 2 \n",
    "# d=1 => 1\n",
    "# d=2 => 3\n",
    "# d=3 => 6\n",
    "# ...\n",
    "\n",
    "min_drops_two_eggs(100)\n"
   ]
  },
  {
   "cell_type": "code",
   "execution_count": 136,
   "id": "8b811d83",
   "metadata": {},
   "outputs": [
    {
     "data": {
      "text/plain": [
       "20"
      ]
     },
     "execution_count": 136,
     "metadata": {},
     "output_type": "execute_result"
    }
   ],
   "source": [
    "# Super Egg Drop - Leetcode 887\n",
    "def solution(n):\n",
    "    def dp(num_e, num_f):\n",
    "        if num_e == 1:\n",
    "            return num_f\n",
    "        result = max(dp(num_e-1, num_f))\n",
    "        \n",
    "def egg_drop(k, n):                # k eggs, n floors\n",
    "    from functools import lru_cache\n",
    "\n",
    "    @lru_cache(None)\n",
    "    def dp(e, f):                  # min worst-case drops\n",
    "        if f <= 1 or e == 1:\n",
    "            return f               # 0/1 floor or only 1 egg → linear search\n",
    "        lo, hi = 1, f\n",
    "        best = f                   # upper bound\n",
    "        # binary-search on x to speed up, but conceptually try every x\n",
    "        while lo <= hi:\n",
    "            x = (lo + hi) // 2\n",
    "            broken     = dp(e-1, x-1)   # egg breaks\n",
    "            not_broken = dp(e,   f-x)   # egg survives\n",
    "            worst = 1 + max(broken, not_broken)\n",
    "            best = min(best, worst)\n",
    "            # move to side with larger sub-problem\n",
    "            if broken > not_broken:\n",
    "                hi = x - 1\n",
    "            else:\n",
    "                lo = x + 1\n",
    "        return best\n",
    "    return dp(k, n)\n",
    "egg_drop(2, 100)\n",
    "\n",
    "\n",
    "\n",
    "def min_worst_num(num_floor, num_proto, mem):\n",
    "    if mem[num_proto-1][num_floor-1]:\n",
    "        return mem[num_proto-1][num_floor-1]\n",
    "    if num_proto == 1:\n",
    "        return num_floor\n",
    "    if num_proto == 0:\n",
    "        return 1000000\n",
    "    if num_floor == 0:\n",
    "        return 0\n",
    "    \n",
    "    assert num_proto == 2\n",
    "\n",
    "    curr_worst_num = 1000000\n",
    "    for choose_floor in range(1, num_floor+1):\n",
    "        worst_num_i = max(min_worst_num(choose_floor-1, num_proto-1, mem), min_worst_num(num_floor - choose_floor, num_proto, mem)) + 1\n",
    "        if worst_num_i < curr_worst_num:\n",
    "            curr_worst_num = worst_num_i\n",
    "    mem[num_proto-1][num_floor-1] = curr_worst_num\n",
    "    return curr_worst_num\n",
    "\n",
    "\n",
    "# def MinimumDropRecursive(n, k, mem):\n",
    "#     if n == 0:\n",
    "#         return 0\n",
    "#     if k == 1:\n",
    "#         return n\n",
    "#     if mem[n-1][k-1] > 0:\n",
    "#         return mem[n-1][k-1]\n",
    "    \n",
    "#     min_drops = 9999\n",
    "#     for i in range(1, n+1):\n",
    "#         num_drops_worst_case = max(MinimumDropRecursive(i-1, k-1, mem), MinimumDropRecursive(n-i, k, mem)) + 1\n",
    "#         min_drops = min(min_drops, num_drops_worst_case)\n",
    "    \n",
    "#     mem[n-1][k-1] = min_drops\n",
    "#     return min_drops\n",
    "\n",
    "# mem = [[0 for _ in range(2)] for _ in range(150)]\n",
    "# MinimumDropRecursive(150, 2, mem)\n",
    "\n",
    "\n",
    "num_floor = 200\n",
    "min_worst_num_mem = [[None  for i in range(num_floor) ], \n",
    "                     [ None  for i in range(num_floor) ]]\n",
    "min_worst_num(num_floor, num_proto=2, mem=min_worst_num_mem)\n",
    "\n",
    "\n",
    "\n"
   ]
  },
  {
   "cell_type": "code",
   "execution_count": null,
   "id": "4264cc29",
   "metadata": {},
   "outputs": [],
   "source": [
    "# K Closest Points to Origin - Heap / Priority Queue - Leetcode 973 \n"
   ]
  },
  {
   "cell_type": "code",
   "execution_count": null,
   "id": "2ef364e6",
   "metadata": {},
   "outputs": [],
   "source": [
    "# Sort an Array - Leetcode 912"
   ]
  }
 ],
 "metadata": {
  "kernelspec": {
   "display_name": "learn_ml",
   "language": "python",
   "name": "python3"
  },
  "language_info": {
   "codemirror_mode": {
    "name": "ipython",
    "version": 3
   },
   "file_extension": ".py",
   "mimetype": "text/x-python",
   "name": "python",
   "nbconvert_exporter": "python",
   "pygments_lexer": "ipython3",
   "version": "3.12.2"
  }
 },
 "nbformat": 4,
 "nbformat_minor": 5
}
